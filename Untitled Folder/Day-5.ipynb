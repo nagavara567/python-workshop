{
 "cells": [
  {
   "cell_type": "markdown",
   "metadata": {},
   "source": [
    "### Todays concepts\n",
    "-OOPs\n",
    "-Regular Expression\n",
    "-files\n",
    "-Matplotib"
   ]
  },
  {
   "cell_type": "code",
   "execution_count": null,
   "metadata": {},
   "outputs": [],
   "source": [
    "# Object oriented programming:\n",
    "# object:intance of class\n",
    " # its having propertie(var) and actions(methods)\n",
    "# Class:\n",
    "# collection of variables and methods\n",
    "# Syntax:\n",
    "# class classname:\n",
    "    #variables\n",
    "    #methods"
   ]
  },
  {
   "cell_type": "code",
   "execution_count": 1,
   "metadata": {},
   "outputs": [],
   "source": [
    "class student:\n",
    "    pass"
   ]
  },
  {
   "cell_type": "code",
   "execution_count": 2,
   "metadata": {},
   "outputs": [],
   "source": [
    "# to create a object:\n",
    "# syntax:\n",
    "# var=classname()\n",
    "s=student()\n"
   ]
  },
  {
   "cell_type": "code",
   "execution_count": 3,
   "metadata": {},
   "outputs": [],
   "source": [
    "class student:\n",
    "    x=10\n",
    "    y=20\n"
   ]
  },
  {
   "cell_type": "code",
   "execution_count": 4,
   "metadata": {},
   "outputs": [
    {
     "data": {
      "text/plain": [
       "10"
      ]
     },
     "execution_count": 4,
     "metadata": {},
     "output_type": "execute_result"
    }
   ],
   "source": [
    "student().x"
   ]
  },
  {
   "cell_type": "code",
   "execution_count": 5,
   "metadata": {},
   "outputs": [
    {
     "data": {
      "text/plain": [
       "20"
      ]
     },
     "execution_count": 5,
     "metadata": {},
     "output_type": "execute_result"
    }
   ],
   "source": [
    "student().y"
   ]
  },
  {
   "cell_type": "code",
   "execution_count": 8,
   "metadata": {},
   "outputs": [
    {
     "data": {
      "text/plain": [
       "10"
      ]
     },
     "execution_count": 8,
     "metadata": {},
     "output_type": "execute_result"
    }
   ],
   "source": [
    "s=student()\n",
    "s.x"
   ]
  },
  {
   "cell_type": "code",
   "execution_count": 9,
   "metadata": {},
   "outputs": [
    {
     "data": {
      "text/plain": [
       "20"
      ]
     },
     "execution_count": 9,
     "metadata": {},
     "output_type": "execute_result"
    }
   ],
   "source": [
    "s.y"
   ]
  },
  {
   "cell_type": "code",
   "execution_count": 11,
   "metadata": {},
   "outputs": [
    {
     "name": "stdout",
     "output_type": "stream",
     "text": [
      "Enter name of the student: ananthu\n",
      "hello ananthu\n"
     ]
    }
   ],
   "source": [
    "class student:\n",
    "    x=10\n",
    "    y=20\n",
    "    def Display(self):\n",
    "        name=input(\"Enter name of the student: \")\n",
    "        print(\"hello\",name)\n",
    "student().x\n",
    "student().y\n",
    "s=student()\n",
    "s.x\n",
    "s.Display()"
   ]
  },
  {
   "cell_type": "code",
   "execution_count": 12,
   "metadata": {},
   "outputs": [
    {
     "name": "stdout",
     "output_type": "stream",
     "text": [
      "Enter name of the student: ananthu\n",
      "hello ananthu\n"
     ]
    }
   ],
   "source": [
    "class student:\n",
    "    x=10\n",
    "    y=20\n",
    "    def Display(self):\n",
    "        name=input(\"Enter name of the student: \")\n",
    "        print(\"hello\",name)\n",
    "s=student()\n",
    "s.x\n",
    "s.Display()"
   ]
  },
  {
   "cell_type": "code",
   "execution_count": 13,
   "metadata": {},
   "outputs": [
    {
     "name": "stdout",
     "output_type": "stream",
     "text": [
      "Enter name of the student: ananthu\n",
      "hello ananthu\n"
     ]
    }
   ],
   "source": [
    "class student:\n",
    "    x=10\n",
    "    y=20\n",
    "    def Display(self):\n",
    "        name=input(\"Enter name of the student: \")\n",
    "        print(\"hello\",name)\n",
    "student().x\n",
    "student().y\n",
    "s.Display()"
   ]
  },
  {
   "cell_type": "code",
   "execution_count": null,
   "metadata": {},
   "outputs": [],
   "source": [
    "# constructor:\n",
    "# syntax:\n",
    "# def __init__(self):\n",
    "    # statements"
   ]
  },
  {
   "cell_type": "code",
   "execution_count": 1,
   "metadata": {},
   "outputs": [],
   "source": [
    "class cse:\n",
    "    sections=3\n",
    "    year=2\n",
    "    def __init__(self):\n",
    "        print(\"This is constructor\")\n",
    "    def Details(self):\n",
    "        print(\"hello {} year having {} sections\".format(year,sections))\n",
    "        "
   ]
  },
  {
   "cell_type": "code",
   "execution_count": 2,
   "metadata": {},
   "outputs": [
    {
     "name": "stdout",
     "output_type": "stream",
     "text": [
      "This is constructor\n"
     ]
    }
   ],
   "source": [
    "c=cse()"
   ]
  },
  {
   "cell_type": "code",
   "execution_count": 5,
   "metadata": {},
   "outputs": [],
   "source": [
    "class cse:\n",
    "    sections=3\n",
    "    year=2\n",
    "    def __init__(self):\n",
    "        print(\"This is constructor\")\n",
    "    def Details(self):\n",
    "        print(\"hello {} year having {} sections\".format(cse.year,cse.sections))\n",
    "        "
   ]
  },
  {
   "cell_type": "code",
   "execution_count": 7,
   "metadata": {},
   "outputs": [
    {
     "name": "stdout",
     "output_type": "stream",
     "text": [
      "This is constructor\n"
     ]
    }
   ],
   "source": [
    "c=cse()\n"
   ]
  },
  {
   "cell_type": "code",
   "execution_count": 15,
   "metadata": {},
   "outputs": [],
   "source": [
    "class cse:\n",
    "    def __init__(self,sections,year):\n",
    "        print(\"This is constructor\")\n",
    "        self.sections=sections\n",
    "        self.year=year\n",
    "    def Details(self):\n",
    "        print(\"hello {} year having {} sections\".format(self.year,self.sections))\n",
    "        "
   ]
  },
  {
   "cell_type": "code",
   "execution_count": 18,
   "metadata": {},
   "outputs": [
    {
     "name": "stdout",
     "output_type": "stream",
     "text": [
      "This is constructor\n",
      "hello 2 year having 2 sections\n"
     ]
    }
   ],
   "source": [
    "c=cse(2,2)\n",
    "c.Details()"
   ]
  },
  {
   "cell_type": "code",
   "execution_count": null,
   "metadata": {},
   "outputs": [],
   "source": [
    "### Inheritance:\n",
    "# getting the properties from parent class to child cls 1\n",
    "# Has - A relation"
   ]
  },
  {
   "cell_type": "code",
   "execution_count": 20,
   "metadata": {},
   "outputs": [],
   "source": [
    "class parent:\n",
    "    x=10\n",
    "    y=20\n",
    "    def M1(self):\n",
    "        print(\"parent method..\")\n",
    "class child:\n",
    "    z=30\n",
    "    def __init__(self):\n",
    "        self.parent=parent()\n",
    "    def M2(self):\n",
    "        print(self.parent.x)\n",
    "        print(self.parent.y)\n",
    "        print(child().z)\n",
    "        print(self.parent.M1())\n",
    "        "
   ]
  },
  {
   "cell_type": "code",
   "execution_count": 22,
   "metadata": {},
   "outputs": [
    {
     "name": "stdout",
     "output_type": "stream",
     "text": [
      "10\n",
      "20\n",
      "30\n",
      "parent method..\n",
      "None\n"
     ]
    }
   ],
   "source": [
    "c=child()\n",
    "c.M2()"
   ]
  },
  {
   "cell_type": "code",
   "execution_count": 23,
   "metadata": {},
   "outputs": [],
   "source": [
    "class parent:\n",
    "    x=10\n",
    "    y=20\n",
    "    def M1(self):\n",
    "        print(\"parent method..\")\n",
    "class child:\n",
    "    z=30\n",
    "    def __init__(self):\n",
    "        self.parent=parent()\n",
    "    def M2(self):\n",
    "        print(self.parent.x)\n",
    "        print(self.parent.y)\n",
    "        print(child().z)\n",
    "        self.parent.M1()\n",
    "        "
   ]
  },
  {
   "cell_type": "code",
   "execution_count": 25,
   "metadata": {},
   "outputs": [
    {
     "name": "stdout",
     "output_type": "stream",
     "text": [
      "10\n",
      "20\n",
      "30\n",
      "parent method..\n"
     ]
    }
   ],
   "source": [
    "c=child()\n",
    "c.M2()"
   ]
  },
  {
   "cell_type": "code",
   "execution_count": 28,
   "metadata": {},
   "outputs": [
    {
     "name": "stdout",
     "output_type": "stream",
     "text": [
      "class A method\n"
     ]
    }
   ],
   "source": [
    "# Is - A Relation:\n",
    "class A:\n",
    "    x = 20\n",
    "    y = 30\n",
    "    def m1(self):\n",
    "        print(\"class A method\")\n",
    "class B(A):\n",
    "    z=40\n",
    "    def m2(self):\n",
    "        print(\"class B method\")\n",
    "obj=B()\n",
    "obj.m1()"
   ]
  },
  {
   "cell_type": "code",
   "execution_count": 29,
   "metadata": {},
   "outputs": [
    {
     "name": "stdout",
     "output_type": "stream",
     "text": [
      "class B method\n"
     ]
    }
   ],
   "source": [
    "obj.m2()"
   ]
  },
  {
   "cell_type": "code",
   "execution_count": 1,
   "metadata": {},
   "outputs": [],
   "source": [
    "# Multi level inheritence\n",
    "class a:\n",
    "    s=5\n",
    "    t=6\n",
    "    def m1(self):\n",
    "        print(\"class a method\")\n",
    "class b(a):\n",
    "    u=3\n",
    "    v=2\n",
    "    def m2(self):\n",
    "        print(\"class b method\")\n",
    "class c(b):\n",
    "    w=1\n",
    "    x=4\n",
    "    def m3(self):\n",
    "        print(\"class c method\")"
   ]
  },
  {
   "cell_type": "code",
   "execution_count": 2,
   "metadata": {},
   "outputs": [
    {
     "name": "stdout",
     "output_type": "stream",
     "text": [
      "class a method\n"
     ]
    }
   ],
   "source": [
    "a=c()\n",
    "a.m1()"
   ]
  },
  {
   "cell_type": "code",
   "execution_count": 3,
   "metadata": {},
   "outputs": [
    {
     "name": "stdout",
     "output_type": "stream",
     "text": [
      "class b method\n"
     ]
    }
   ],
   "source": [
    "a.m2()"
   ]
  },
  {
   "cell_type": "code",
   "execution_count": 5,
   "metadata": {},
   "outputs": [
    {
     "name": "stdout",
     "output_type": "stream",
     "text": [
      "class c method\n"
     ]
    }
   ],
   "source": [
    "a.m3()"
   ]
  },
  {
   "cell_type": "code",
   "execution_count": 41,
   "metadata": {},
   "outputs": [],
   "source": [
    "class parent:\n",
    "    name='ananthu'\n",
    "    companey='APSSDC'\n",
    "    def m1(self):\n",
    "        print(\"Hello\",parent.name,\"Welcome to\",parent.companey)\n",
    "class child(parent):\n",
    "    name1='varam'\n",
    "    companey='APSSDC'\n",
    "    def m2(self):\n",
    "        print(\"Hello\",child.name1,\"Welcome to\",child.companey)\n",
    "class subchild(child):\n",
    "    name2='lakshmi'\n",
    "    company='APSSDC'\n",
    "    def mm(self):\n",
    "        print(\"Hello\",subchild.name2,\"Welcome to\",subchild.companey)"
   ]
  },
  {
   "cell_type": "code",
   "execution_count": 42,
   "metadata": {},
   "outputs": [
    {
     "name": "stdout",
     "output_type": "stream",
     "text": [
      "Hello ananthu Welcome to APSSDC\n"
     ]
    }
   ],
   "source": [
    "obj=subchild()\n",
    "obj.m1()"
   ]
  },
  {
   "cell_type": "code",
   "execution_count": 43,
   "metadata": {},
   "outputs": [
    {
     "name": "stdout",
     "output_type": "stream",
     "text": [
      "Hello varam Welcome to APSSDC\n"
     ]
    }
   ],
   "source": [
    "obj.m2()"
   ]
  },
  {
   "cell_type": "code",
   "execution_count": 44,
   "metadata": {},
   "outputs": [
    {
     "name": "stdout",
     "output_type": "stream",
     "text": [
      "Hello lakshmi Welcome to APSSDC\n"
     ]
    }
   ],
   "source": [
    "obj.mm()"
   ]
  },
  {
   "cell_type": "markdown",
   "metadata": {},
   "source": [
    "# Regular Expressions \n",
    "\n",
    "+ Regular Expressions are using patterns\n",
    "\n",
    "+ By using regular expressions in python we can one module i.e import **re**\n",
    "\n",
    "+  regular expression syntax --> modulename.methodname(pattern,values or variablenames)\n",
    "\n",
    "# Methods\n",
    "\n",
    "+ search\n",
    "\n",
    "+ match\n",
    "\n",
    "+ findall\n",
    "\n",
    "# Pattrens \n",
    "\n",
    "+ ^  Matches the beginning of a line\n",
    "\n",
    "+ $  Matches the end of the line\n",
    "\n",
    "+ .  Matches any charecter \n",
    "\n",
    "+ *  Repeats a charecter zero or more times\n",
    "\n",
    "+ +  Repeats a chrecter one or more times\n",
    "\n",
    "+ \\d  Matches digits\n",
    "\n",
    "+ \\D Matches except digits\n",
    "\n",
    "+ \\s  Matches whitespaces\n",
    "\n",
    "+ \\S  Matches any non-whitespaces charecter\n",
    "\n",
    "+ \\w  Matches without special symbols\n",
    "\n",
    "+ \\W  Matches special chracter\n",
    "\n",
    "+ *?  Repeats a charecter  zero or more times\n",
    "\n",
    "+ +?  Repeats a chrecter one or more times\n",
    "\n",
    "+ [aeiou]  Matches a single chracter  in the listed set\n",
    "\n",
    "+ [^XYZ]  Matches a single character not in the listed set\n",
    "\n",
    "+ [a-z0-9]  The set of character  can include a range\n",
    "\n",
    "+ (  Indicates where string extraction is to start\n",
    "\n",
    "+ ) Indicates where string extraction is to end"
   ]
  },
  {
   "cell_type": "code",
   "execution_count": 6,
   "metadata": {},
   "outputs": [
    {
     "data": {
      "text/plain": [
       "<re.Match object; span=(0, 1), match='p'>"
      ]
     },
     "execution_count": 6,
     "metadata": {},
     "output_type": "execute_result"
    }
   ],
   "source": [
    "import re\n",
    "re.search(\"^p\",\"python workshop\")"
   ]
  },
  {
   "cell_type": "code",
   "execution_count": 11,
   "metadata": {},
   "outputs": [
    {
     "data": {
      "text/plain": [
       "<re.Match object; span=(0, 2), match='py'>"
      ]
     },
     "execution_count": 11,
     "metadata": {},
     "output_type": "execute_result"
    }
   ],
   "source": [
    "re.search(\"^py\",\"python workshop\")"
   ]
  },
  {
   "cell_type": "code",
   "execution_count": 14,
   "metadata": {},
   "outputs": [
    {
     "data": {
      "text/plain": [
       "<re.Match object; span=(14, 15), match='p'>"
      ]
     },
     "execution_count": 14,
     "metadata": {},
     "output_type": "execute_result"
    }
   ],
   "source": [
    "re.search(\"p$\",\"python workshop\")"
   ]
  },
  {
   "cell_type": "code",
   "execution_count": 15,
   "metadata": {},
   "outputs": [
    {
     "data": {
      "text/plain": [
       "<re.Match object; span=(0, 1), match='p'>"
      ]
     },
     "execution_count": 15,
     "metadata": {},
     "output_type": "execute_result"
    }
   ],
   "source": [
    "re.search(\".\",\"python workshop\")"
   ]
  },
  {
   "cell_type": "code",
   "execution_count": 16,
   "metadata": {},
   "outputs": [
    {
     "data": {
      "text/plain": [
       "<re.Match object; span=(0, 9), match='python wo'>"
      ]
     },
     "execution_count": 16,
     "metadata": {},
     "output_type": "execute_result"
    }
   ],
   "source": [
    "re.search(\".........\",\"python workshop\")"
   ]
  },
  {
   "cell_type": "code",
   "execution_count": 17,
   "metadata": {},
   "outputs": [
    {
     "data": {
      "text/plain": [
       "<re.Match object; span=(0, 1), match='2'>"
      ]
     },
     "execution_count": 17,
     "metadata": {},
     "output_type": "execute_result"
    }
   ],
   "source": [
    "re.search(\"\\d\",\"23-01-2021python\")"
   ]
  },
  {
   "cell_type": "code",
   "execution_count": 18,
   "metadata": {},
   "outputs": [
    {
     "data": {
      "text/plain": [
       "['2', '3', '0', '1', '2', '0', '2', '1']"
      ]
     },
     "execution_count": 18,
     "metadata": {},
     "output_type": "execute_result"
    }
   ],
   "source": [
    "re.findall(\"\\d\",\"23-01-2021python\")"
   ]
  },
  {
   "cell_type": "code",
   "execution_count": 7,
   "metadata": {},
   "outputs": [
    {
     "data": {
      "text/plain": [
       "['-', '-', 'p', 'y', 't', 'h', 'o', 'n']"
      ]
     },
     "execution_count": 7,
     "metadata": {},
     "output_type": "execute_result"
    }
   ],
   "source": [
    "re.findall(\"\\D\",\"23-01-2021python\")"
   ]
  },
  {
   "cell_type": "code",
   "execution_count": 20,
   "metadata": {},
   "outputs": [
    {
     "data": {
      "text/plain": [
       "[' ', ' ', ' ']"
      ]
     },
     "execution_count": 20,
     "metadata": {},
     "output_type": "execute_result"
    }
   ],
   "source": [
    "x=\"Welcome to python workshop\"\n",
    "re.findall(\"\\s\",x)"
   ]
  },
  {
   "cell_type": "code",
   "execution_count": 21,
   "metadata": {},
   "outputs": [
    {
     "data": {
      "text/plain": [
       "[' ', ' ']"
      ]
     },
     "execution_count": 21,
     "metadata": {},
     "output_type": "execute_result"
    }
   ],
   "source": [
    "x=\"Welcome to pythonworkshop\"\n",
    "re.findall(\"\\s\",x)"
   ]
  },
  {
   "cell_type": "code",
   "execution_count": 22,
   "metadata": {},
   "outputs": [
    {
     "data": {
      "text/plain": [
       "['W',\n",
       " 'e',\n",
       " 'l',\n",
       " 'c',\n",
       " 'o',\n",
       " 'm',\n",
       " 'e',\n",
       " 't',\n",
       " 'o',\n",
       " 'p',\n",
       " 'y',\n",
       " 't',\n",
       " 'h',\n",
       " 'o',\n",
       " 'n',\n",
       " 'w',\n",
       " 'o',\n",
       " 'r',\n",
       " 'k',\n",
       " 's',\n",
       " 'h',\n",
       " 'o',\n",
       " 'p']"
      ]
     },
     "execution_count": 22,
     "metadata": {},
     "output_type": "execute_result"
    }
   ],
   "source": [
    "x=\"Welcome to python workshop\"\n",
    "re.findall(\"\\S\",x)"
   ]
  },
  {
   "cell_type": "code",
   "execution_count": 23,
   "metadata": {},
   "outputs": [
    {
     "data": {
      "text/plain": [
       "['W',\n",
       " 'e',\n",
       " 'l',\n",
       " 'c',\n",
       " 'o',\n",
       " 'm',\n",
       " 'e',\n",
       " '@',\n",
       " 't',\n",
       " 'o',\n",
       " 'p',\n",
       " 'y',\n",
       " 't',\n",
       " 'h',\n",
       " 'o',\n",
       " 'n',\n",
       " '&',\n",
       " 'w',\n",
       " 'o',\n",
       " 'r',\n",
       " 'k',\n",
       " 's',\n",
       " 'h',\n",
       " 'o',\n",
       " 'p']"
      ]
     },
     "execution_count": 23,
     "metadata": {},
     "output_type": "execute_result"
    }
   ],
   "source": [
    "x=\"Welcome@ to python& workshop\"\n",
    "re.findall(\"\\S\",x)"
   ]
  },
  {
   "cell_type": "code",
   "execution_count": 24,
   "metadata": {},
   "outputs": [
    {
     "data": {
      "text/plain": [
       "<re.Match object; span=(9, 10), match='@'>"
      ]
     },
     "execution_count": 24,
     "metadata": {},
     "output_type": "execute_result"
    }
   ],
   "source": [
    "re.search(\"\\W\",\"ananthu_A@gmail.com\")\n"
   ]
  },
  {
   "cell_type": "code",
   "execution_count": 25,
   "metadata": {},
   "outputs": [
    {
     "data": {
      "text/plain": [
       "['@', '.']"
      ]
     },
     "execution_count": 25,
     "metadata": {},
     "output_type": "execute_result"
    }
   ],
   "source": [
    "re.findall(\"\\W\",\"ananthu567_A@gmail.com\")"
   ]
  },
  {
   "cell_type": "code",
   "execution_count": 26,
   "metadata": {},
   "outputs": [
    {
     "data": {
      "text/plain": [
       "['a',\n",
       " 'n',\n",
       " 'a',\n",
       " 'n',\n",
       " 't',\n",
       " 'h',\n",
       " 'u',\n",
       " '5',\n",
       " '6',\n",
       " '7',\n",
       " '_',\n",
       " 'A',\n",
       " 'g',\n",
       " 'm',\n",
       " 'a',\n",
       " 'i',\n",
       " 'l',\n",
       " 'c',\n",
       " 'o',\n",
       " 'm']"
      ]
     },
     "execution_count": 26,
     "metadata": {},
     "output_type": "execute_result"
    }
   ],
   "source": [
    "re.findall(\"\\w\",\"ananthu567_A@gmail.com\")"
   ]
  },
  {
   "cell_type": "code",
   "execution_count": 27,
   "metadata": {},
   "outputs": [
    {
     "data": {
      "text/plain": [
       "<re.Match object; span=(0, 1), match='a'>"
      ]
     },
     "execution_count": 27,
     "metadata": {},
     "output_type": "execute_result"
    }
   ],
   "source": [
    "re.search(\"\\w\",\"ananthu_A@gmail.com\")"
   ]
  },
  {
   "cell_type": "code",
   "execution_count": 29,
   "metadata": {},
   "outputs": [
    {
     "data": {
      "text/plain": [
       "<re.Match object; span=(0, 10), match='8919816864'>"
      ]
     },
     "execution_count": 29,
     "metadata": {},
     "output_type": "execute_result"
    }
   ],
   "source": [
    "# Mobile pattern\n",
    "re.search(\"^[6-9][0-9]{9}|[0][6-9][0-9]{10}|[+][9][1][6-9][0-9]{9}$\",\"8919816864\")"
   ]
  },
  {
   "cell_type": "code",
   "execution_count": 34,
   "metadata": {},
   "outputs": [],
   "source": [
    "re.search(\"^[6-9][0-9]{9}|[0][6-9][0-9]{10}|[+][9][1][6-9][0-9]{9}$\",\"08919816864\")"
   ]
  },
  {
   "cell_type": "code",
   "execution_count": 32,
   "metadata": {},
   "outputs": [
    {
     "data": {
      "text/plain": [
       "<re.Match object; span=(0, 13), match='+918919816864'>"
      ]
     },
     "execution_count": 32,
     "metadata": {},
     "output_type": "execute_result"
    }
   ],
   "source": [
    "re.search(\"^[6-9][0-9]{9}|[0][6-9][0-9]{10}|[+][9][1][6-9][0-9]{9}$\",\"+918919816864\")"
   ]
  },
  {
   "cell_type": "code",
   "execution_count": 4,
   "metadata": {},
   "outputs": [
    {
     "ename": "NameError",
     "evalue": "name 're' is not defined",
     "output_type": "error",
     "traceback": [
      "\u001b[1;31m---------------------------------------------------------------------------\u001b[0m",
      "\u001b[1;31mNameError\u001b[0m                                 Traceback (most recent call last)",
      "\u001b[1;32m<ipython-input-4-7b48cabd4476>\u001b[0m in \u001b[0;36m<module>\u001b[1;34m\u001b[0m\n\u001b[0;32m      1\u001b[0m \u001b[1;31m# mail pattren\u001b[0m\u001b[1;33m\u001b[0m\u001b[1;33m\u001b[0m\u001b[1;33m\u001b[0m\u001b[0m\n\u001b[1;32m----> 2\u001b[1;33m \u001b[0mre\u001b[0m\u001b[1;33m.\u001b[0m\u001b[0msearch\u001b[0m\u001b[1;33m(\u001b[0m\u001b[1;34m\"^[A-Za-z][.][0-9]{1-15}+[@][A-Za-z]{7}+[.][a-z]{3}$\"\u001b[0m\u001b[1;33m,\u001b[0m\u001b[1;34m\"ananthu567_A@gmail.com\"\u001b[0m\u001b[1;33m)\u001b[0m\u001b[1;33m\u001b[0m\u001b[1;33m\u001b[0m\u001b[0m\n\u001b[0m",
      "\u001b[1;31mNameError\u001b[0m: name 're' is not defined"
     ]
    }
   ],
   "source": [
    "# mail pattren\n",
    "re.search(\"^[A-Za-z][.][0-9]{1-15}+[@][A-Za-z]{7}[.][a-z]{3}$\",\"ananthu567_A@gmail.com\")"
   ]
  },
  {
   "cell_type": "code",
   "execution_count": null,
   "metadata": {},
   "outputs": [],
   "source": []
  }
 ],
 "metadata": {
  "kernelspec": {
   "display_name": "Python 3",
   "language": "python",
   "name": "python3"
  },
  "language_info": {
   "codemirror_mode": {
    "name": "ipython",
    "version": 3
   },
   "file_extension": ".py",
   "mimetype": "text/x-python",
   "name": "python",
   "nbconvert_exporter": "python",
   "pygments_lexer": "ipython3",
   "version": "3.8.5"
  }
 },
 "nbformat": 4,
 "nbformat_minor": 4
}
