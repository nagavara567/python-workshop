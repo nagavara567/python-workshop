{
 "cells": [
  {
   "cell_type": "markdown",
   "metadata": {},
   "source": [
    "### Todays concepts\n",
    "-OOPs\n",
    "-Regular Expression\n",
    "-files\n",
    "-Matplotib"
   ]
  },
  {
   "cell_type": "code",
   "execution_count": null,
   "metadata": {},
   "outputs": [],
   "source": [
    "# Object oriented programming:\n",
    "# object:intance of class\n",
    " # its having propertie(var) and actions(methods)\n",
    "# Class:\n",
    "# collection of variables and methods\n",
    "# Syntax:\n",
    "# class classname:\n",
    "    #variables\n",
    "    #methods"
   ]
  },
  {
   "cell_type": "code",
   "execution_count": 1,
   "metadata": {},
   "outputs": [],
   "source": [
    "class student:\n",
    "    pass"
   ]
  },
  {
   "cell_type": "code",
   "execution_count": 2,
   "metadata": {},
   "outputs": [],
   "source": [
    "# to create a object:\n",
    "# syntax:\n",
    "# var=classname()\n",
    "s=student()\n"
   ]
  },
  {
   "cell_type": "code",
   "execution_count": 3,
   "metadata": {},
   "outputs": [],
   "source": [
    "class student:\n",
    "    x=10\n",
    "    y=20\n"
   ]
  },
  {
   "cell_type": "code",
   "execution_count": 4,
   "metadata": {},
   "outputs": [
    {
     "data": {
      "text/plain": [
       "10"
      ]
     },
     "execution_count": 4,
     "metadata": {},
     "output_type": "execute_result"
    }
   ],
   "source": [
    "student().x"
   ]
  },
  {
   "cell_type": "code",
   "execution_count": 5,
   "metadata": {},
   "outputs": [
    {
     "data": {
      "text/plain": [
       "20"
      ]
     },
     "execution_count": 5,
     "metadata": {},
     "output_type": "execute_result"
    }
   ],
   "source": [
    "student().y"
   ]
  },
  {
   "cell_type": "code",
   "execution_count": 8,
   "metadata": {},
   "outputs": [
    {
     "data": {
      "text/plain": [
       "10"
      ]
     },
     "execution_count": 8,
     "metadata": {},
     "output_type": "execute_result"
    }
   ],
   "source": [
    "s=student()\n",
    "s.x"
   ]
  },
  {
   "cell_type": "code",
   "execution_count": 9,
   "metadata": {},
   "outputs": [
    {
     "data": {
      "text/plain": [
       "20"
      ]
     },
     "execution_count": 9,
     "metadata": {},
     "output_type": "execute_result"
    }
   ],
   "source": [
    "s.y"
   ]
  },
  {
   "cell_type": "code",
   "execution_count": 11,
   "metadata": {},
   "outputs": [
    {
     "name": "stdout",
     "output_type": "stream",
     "text": [
      "Enter name of the student: ananthu\n",
      "hello ananthu\n"
     ]
    }
   ],
   "source": [
    "class student:\n",
    "    x=10\n",
    "    y=20\n",
    "    def Display(self):\n",
    "        name=input(\"Enter name of the student: \")\n",
    "        print(\"hello\",name)\n",
    "student().x\n",
    "student().y\n",
    "s=student()\n",
    "s.x\n",
    "s.Display()"
   ]
  },
  {
   "cell_type": "code",
   "execution_count": 12,
   "metadata": {},
   "outputs": [
    {
     "name": "stdout",
     "output_type": "stream",
     "text": [
      "Enter name of the student: ananthu\n",
      "hello ananthu\n"
     ]
    }
   ],
   "source": [
    "class student:\n",
    "    x=10\n",
    "    y=20\n",
    "    def Display(self):\n",
    "        name=input(\"Enter name of the student: \")\n",
    "        print(\"hello\",name)\n",
    "s=student()\n",
    "s.x\n",
    "s.Display()"
   ]
  },
  {
   "cell_type": "code",
   "execution_count": 13,
   "metadata": {},
   "outputs": [
    {
     "name": "stdout",
     "output_type": "stream",
     "text": [
      "Enter name of the student: ananthu\n",
      "hello ananthu\n"
     ]
    }
   ],
   "source": [
    "class student:\n",
    "    x=10\n",
    "    y=20\n",
    "    def Display(self):\n",
    "        name=input(\"Enter name of the student: \")\n",
    "        print(\"hello\",name)\n",
    "student().x\n",
    "student().y\n",
    "s.Display()"
   ]
  },
  {
   "cell_type": "code",
   "execution_count": null,
   "metadata": {},
   "outputs": [],
   "source": [
    "# constructor:\n",
    "# syntax:\n",
    "# def __init__(self):\n",
    "    # statements"
   ]
  },
  {
   "cell_type": "code",
   "execution_count": 1,
   "metadata": {},
   "outputs": [],
   "source": [
    "class cse:\n",
    "    sections=3\n",
    "    year=2\n",
    "    def __init__(self):\n",
    "        print(\"This is constructor\")\n",
    "    def Details(self):\n",
    "        print(\"hello {} year having {} sections\".format(year,sections))\n",
    "        "
   ]
  },
  {
   "cell_type": "code",
   "execution_count": 2,
   "metadata": {},
   "outputs": [
    {
     "name": "stdout",
     "output_type": "stream",
     "text": [
      "This is constructor\n"
     ]
    }
   ],
   "source": [
    "c=cse()"
   ]
  },
  {
   "cell_type": "code",
   "execution_count": 5,
   "metadata": {},
   "outputs": [],
   "source": [
    "class cse:\n",
    "    sections=3\n",
    "    year=2\n",
    "    def __init__(self):\n",
    "        print(\"This is constructor\")\n",
    "    def Details(self):\n",
    "        print(\"hello {} year having {} sections\".format(cse.year,cse.sections))\n",
    "        "
   ]
  },
  {
   "cell_type": "code",
   "execution_count": 7,
   "metadata": {},
   "outputs": [
    {
     "name": "stdout",
     "output_type": "stream",
     "text": [
      "This is constructor\n"
     ]
    }
   ],
   "source": [
    "c=cse()\n"
   ]
  },
  {
   "cell_type": "code",
   "execution_count": 15,
   "metadata": {},
   "outputs": [],
   "source": [
    "class cse:\n",
    "    def __init__(self,sections,year):\n",
    "        print(\"This is constructor\")\n",
    "        self.sections=sections\n",
    "        self.year=year\n",
    "    def Details(self):\n",
    "        print(\"hello {} year having {} sections\".format(self.year,self.sections))\n",
    "        "
   ]
  },
  {
   "cell_type": "code",
   "execution_count": 18,
   "metadata": {},
   "outputs": [
    {
     "name": "stdout",
     "output_type": "stream",
     "text": [
      "This is constructor\n",
      "hello 2 year having 2 sections\n"
     ]
    }
   ],
   "source": [
    "c=cse(2,2)\n",
    "c.Details()"
   ]
  },
  {
   "cell_type": "code",
   "execution_count": null,
   "metadata": {},
   "outputs": [],
   "source": [
    "### Inheritance:\n",
    "# getting the properties from parent class to child cls 1\n",
    "# Has - A relation"
   ]
  },
  {
   "cell_type": "code",
   "execution_count": 20,
   "metadata": {},
   "outputs": [],
   "source": [
    "class parent:\n",
    "    x=10\n",
    "    y=20\n",
    "    def M1(self):\n",
    "        print(\"parent method..\")\n",
    "class child:\n",
    "    z=30\n",
    "    def __init__(self):\n",
    "        self.parent=parent()\n",
    "    def M2(self):\n",
    "        print(self.parent.x)\n",
    "        print(self.parent.y)\n",
    "        print(child().z)\n",
    "        print(self.parent.M1())\n",
    "        "
   ]
  },
  {
   "cell_type": "code",
   "execution_count": 22,
   "metadata": {},
   "outputs": [
    {
     "name": "stdout",
     "output_type": "stream",
     "text": [
      "10\n",
      "20\n",
      "30\n",
      "parent method..\n",
      "None\n"
     ]
    }
   ],
   "source": [
    "c=child()\n",
    "c.M2()"
   ]
  },
  {
   "cell_type": "code",
   "execution_count": 23,
   "metadata": {},
   "outputs": [],
   "source": [
    "class parent:\n",
    "    x=10\n",
    "    y=20\n",
    "    def M1(self):\n",
    "        print(\"parent method..\")\n",
    "class child:\n",
    "    z=30\n",
    "    def __init__(self):\n",
    "        self.parent=parent()\n",
    "    def M2(self):\n",
    "        print(self.parent.x)\n",
    "        print(self.parent.y)\n",
    "        print(child().z)\n",
    "        self.parent.M1()\n",
    "        "
   ]
  },
  {
   "cell_type": "code",
   "execution_count": 25,
   "metadata": {},
   "outputs": [
    {
     "name": "stdout",
     "output_type": "stream",
     "text": [
      "10\n",
      "20\n",
      "30\n",
      "parent method..\n"
     ]
    }
   ],
   "source": [
    "c=child()\n",
    "c.M2()"
   ]
  },
  {
   "cell_type": "code",
   "execution_count": 28,
   "metadata": {},
   "outputs": [
    {
     "name": "stdout",
     "output_type": "stream",
     "text": [
      "class A method\n"
     ]
    }
   ],
   "source": [
    "# Is - A Relation:\n",
    "class A:\n",
    "    x = 20\n",
    "    y = 30\n",
    "    def m1(self):\n",
    "        print(\"class A method\")\n",
    "class B(A):\n",
    "    z=40\n",
    "    def m2(self):\n",
    "        print(\"class B method\")\n",
    "obj=B()\n",
    "obj.m1()"
   ]
  },
  {
   "cell_type": "code",
   "execution_count": 29,
   "metadata": {},
   "outputs": [
    {
     "name": "stdout",
     "output_type": "stream",
     "text": [
      "class B method\n"
     ]
    }
   ],
   "source": [
    "obj.m2()"
   ]
  },
  {
   "cell_type": "code",
   "execution_count": 31,
   "metadata": {},
   "outputs": [],
   "source": [
    "# Multi level inheritence\n",
    "class a:\n",
    "    s=5\n",
    "    t=6\n",
    "    def m1(self):\n",
    "        print(\"class a method\")\n",
    "class b(a):\n",
    "    u=3\n",
    "    v=2\n",
    "    def m2(self):\n",
    "        print(\"class b method\")\n",
    "class c(b):\n",
    "    w=1\n",
    "    x=4\n",
    "    def m3(self):\n",
    "        print(\"class c method\")"
   ]
  },
  {
   "cell_type": "code",
   "execution_count": null,
   "metadata": {},
   "outputs": [],
   "source": []
  },
  {
   "cell_type": "code",
   "execution_count": 41,
   "metadata": {},
   "outputs": [],
   "source": [
    "class parent:\n",
    "    name='ananthu'\n",
    "    companey='APSSDC'\n",
    "    def m1(self):\n",
    "        print(\"Hello\",parent.name,\"Welcome to\",parent.companey)\n",
    "class child(parent):\n",
    "    name1='varam'\n",
    "    companey='APSSDC'\n",
    "    def m2(self):\n",
    "        print(\"Hello\",child.name1,\"Welcome to\",child.companey)\n",
    "class subchild(child):\n",
    "    name2='lakshmi'\n",
    "    company='APSSDC'\n",
    "    def mm(self):\n",
    "        print(\"Hello\",subchild.name2,\"Welcome to\",subchild.companey)"
   ]
  },
  {
   "cell_type": "code",
   "execution_count": 42,
   "metadata": {},
   "outputs": [
    {
     "name": "stdout",
     "output_type": "stream",
     "text": [
      "Hello ananthu Welcome to APSSDC\n"
     ]
    }
   ],
   "source": [
    "obj=subchild()\n",
    "obj.m1()"
   ]
  },
  {
   "cell_type": "code",
   "execution_count": 43,
   "metadata": {},
   "outputs": [
    {
     "name": "stdout",
     "output_type": "stream",
     "text": [
      "Hello varam Welcome to APSSDC\n"
     ]
    }
   ],
   "source": [
    "obj.m2()"
   ]
  },
  {
   "cell_type": "code",
   "execution_count": 44,
   "metadata": {},
   "outputs": [
    {
     "name": "stdout",
     "output_type": "stream",
     "text": [
      "Hello lakshmi Welcome to APSSDC\n"
     ]
    }
   ],
   "source": [
    "obj.mm()"
   ]
  },
  {
   "cell_type": "code",
   "execution_count": null,
   "metadata": {},
   "outputs": [],
   "source": []
  }
 ],
 "metadata": {
  "kernelspec": {
   "display_name": "Python 3",
   "language": "python",
   "name": "python3"
  },
  "language_info": {
   "codemirror_mode": {
    "name": "ipython",
    "version": 3
   },
   "file_extension": ".py",
   "mimetype": "text/x-python",
   "name": "python",
   "nbconvert_exporter": "python",
   "pygments_lexer": "ipython3",
   "version": "3.8.5"
  }
 },
 "nbformat": 4,
 "nbformat_minor": 4
}
